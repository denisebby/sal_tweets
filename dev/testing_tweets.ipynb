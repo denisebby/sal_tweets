{
 "cells": [
  {
   "cell_type": "code",
   "execution_count": 1,
   "metadata": {},
   "outputs": [],
   "source": [
    "import tweepy\n",
    "import os\n",
    "import pandas as pd\n",
    "import time"
   ]
  },
  {
   "cell_type": "code",
   "execution_count": 2,
   "metadata": {},
   "outputs": [
    {
     "name": "stdout",
     "output_type": "stream",
     "text": [
      "4.12.1\n"
     ]
    }
   ],
   "source": [
    "print(tweepy.__version__)"
   ]
  },
  {
   "cell_type": "code",
   "execution_count": 3,
   "metadata": {},
   "outputs": [],
   "source": [
    "\n",
    "\n",
    "access_key = os.getenv(\"API_KEY\")\n",
    "access_secret = os.getenv(\"API_KEY_SECRET\")\n",
    "\n",
    "consumer_key = os.getenv(\"ACCESS_TOKEN\")\n",
    "consumer_secret = os.getenv(\"ACCESS_TOKEN_SECRET\")\n",
    "\n",
    "bearer_token = os.getenv(\"BEARER_TOKEN\")"
   ]
  },
  {
   "cell_type": "code",
   "execution_count": 4,
   "metadata": {},
   "outputs": [],
   "source": [
    "client = tweepy.Client(bearer_token=bearer_token)"
   ]
  },
  {
   "cell_type": "code",
   "execution_count": 5,
   "metadata": {},
   "outputs": [],
   "source": [
    "account = client.get_user(username=\"SalVulcano\")"
   ]
  },
  {
   "cell_type": "code",
   "execution_count": 6,
   "metadata": {},
   "outputs": [
    {
     "data": {
      "text/plain": [
       "48294321"
      ]
     },
     "execution_count": 6,
     "metadata": {},
     "output_type": "execute_result"
    }
   ],
   "source": [
    "account.data.id"
   ]
  },
  {
   "cell_type": "code",
   "execution_count": 7,
   "metadata": {},
   "outputs": [],
   "source": [
    "username = \"SalVulcano\"\n",
    "account = client.get_user(username=username)\n",
    "tweets = client.get_users_tweets(id = account.data.id,  max_results = 10, exclude = \"retweets,replies\")"
   ]
  },
  {
   "cell_type": "code",
   "execution_count": 8,
   "metadata": {},
   "outputs": [
    {
     "data": {
      "text/plain": [
       "<Tweet id=1617616667089174532 text='Taste Buddies! Here we go! @tastebudspod \\n\\nChoose one:'>"
      ]
     },
     "execution_count": 8,
     "metadata": {},
     "output_type": "execute_result"
    }
   ],
   "source": [
    "tweets[0][1]"
   ]
  },
  {
   "cell_type": "code",
   "execution_count": 9,
   "metadata": {},
   "outputs": [],
   "source": [
    "def get_number_of_likes(tweet_id):\n",
    "    return len(client.get_liking_users(id = tweet_id).data)"
   ]
  },
  {
   "cell_type": "code",
   "execution_count": 10,
   "metadata": {},
   "outputs": [
    {
     "name": "stdout",
     "output_type": "stream",
     "text": [
      "0\n",
      "1\n",
      "2\n",
      "3\n",
      "4\n",
      "5\n",
      "6\n",
      "7\n",
      "8\n",
      "9\n"
     ]
    }
   ],
   "source": [
    "list1 = []\n",
    "for i, tweet in enumerate(tweets[0]):\n",
    "\n",
    "    refined_tweet = {\"user\": username,\n",
    "                    \"tweet_id\": tweet.id,\n",
    "                    'text' : tweet.text,\n",
    "                    \"number_of_likes\": get_number_of_likes(tweet_id=tweet.id)\n",
    "                    }\n",
    "    \n",
    "    list1.append(refined_tweet)\n",
    "    time.sleep(1)\n",
    "    print(i)\n",
    "\n",
    "df = pd.DataFrame(list1)"
   ]
  },
  {
   "cell_type": "code",
   "execution_count": 16,
   "metadata": {},
   "outputs": [
    {
     "data": {
      "text/plain": [
       "'LONG ISLAND BABES 👇👇\\n\\nTag a friend!!!!\\n\\nMarch 12th!!! https://t.co/DDVdO4w6HB'"
      ]
     },
     "execution_count": 16,
     "metadata": {},
     "output_type": "execute_result"
    }
   ],
   "source": [
    "df[[\"text\", \"number_of_likes\"]].iloc[2].text"
   ]
  },
  {
   "cell_type": "code",
   "execution_count": 19,
   "metadata": {},
   "outputs": [],
   "source": [
    "\n",
    "\n",
    "s = client.get_liking_users(id = \"1615839601561673728\").data"
   ]
  },
  {
   "cell_type": "code",
   "execution_count": 23,
   "metadata": {},
   "outputs": [
    {
     "data": {
      "text/plain": [
       "90"
      ]
     },
     "execution_count": 23,
     "metadata": {},
     "output_type": "execute_result"
    }
   ],
   "source": [
    "len(s)"
   ]
  },
  {
   "cell_type": "code",
   "execution_count": 22,
   "metadata": {},
   "outputs": [
    {
     "name": "stdout",
     "output_type": "stream",
     "text": [
      "Gabrielle\n",
      "Angie Stauffer\n",
      "Dacoda Gardner\n",
      "Debbie Webster\n",
      "Krista Larson\n",
      "Matthew Kelly\n",
      "EDUBBZ\n",
      "Hey Babe Podcast\n",
      "Ross Turetsky\n",
      "BlackenedHeart 🖤🕊\n",
      "Eleanor\n",
      "Cee Em Bee\n",
      "kgsoloman5000\n",
      "Alexx\n",
      "Jordyn\n",
      "Eliana Marz\n",
      "Brianne Brezicky\n",
      "1DSTAN\n",
      "Terrifyingandimposingfigure\n",
      "A\n",
      "Karen LaParl\n",
      "Lancuid Zee\n",
      "Justin Kim\n",
      "braddougan_1987\n",
      "Don Curlyone\n",
      "Stuart\n",
      "rob christopher\n",
      "Ryan Krauss\n",
      "---Jenny---\n",
      "Jennifer Irons\n",
      "♡\n",
      "Gail Anderson\n",
      "Carrie S\n",
      "Phoenix Star\n",
      "Ed Kulesza\n",
      "Austin\n",
      "Paul (Never Been Confused with the Wrestler) White\n",
      "Mo Hassan\n",
      "Jeff Bakken\n",
      "Bear Jew\n",
      "CDel\n",
      "Mark Twain\n",
      "Hanna Reiter\n",
      "Carmen Marco\n",
      "Gabriela Salkowitz\n",
      "googlygasket\n",
      "Michelle\n",
      "Crystal Jenaé💋\n",
      "kt\n",
      "Emma Howe-Andrews\n",
      "Vanessa ramirez\n",
      "lilly\n",
      "emmaclairexo\n",
      "Winter Prison... OwO ✝️\n",
      "salem\n",
      "DippyEggs\n",
      "EmmieFoxo\n",
      "Sharrie Vadala\n",
      "Peter 🐀\n",
      "Gabriella\n",
      "The Pandalorian\n",
      "Ed Silvia\n",
      "yaji\n",
      "Katherin Brito\n",
      "S. Michael Das 🏆\n",
      "roman\n",
      "Lori Camoro\n",
      "André Almeida\n",
      "Daniel Sepulveda\n",
      "Sabrina 🇩🇪🤘🎉🐻\n",
      "AmyLee 🐜\n",
      "Raquel Dellá\n",
      "Mikey\n",
      "vanswine\n",
      "Ian McDonald\n",
      "dyl-dyl\n",
      "𝖎𝖘𝖆𝖎𝖆𝖍\n",
      "Rashell ✨\n",
      "Danhausen\n",
      "BusyBrody 🏳️‍🌈\n",
      "Rob Taub\n",
      "John Silver\n",
      "Lewis Cruz\n",
      "TanManhizzle\n",
      "📠 Icarus Sucks At Life 📠\n",
      "Faith In Rachel’s Future🎸\n",
      "Tracy Matthewman\n",
      "Emily Sakran\n",
      "Rach\n",
      "Moose\n"
     ]
    }
   ],
   "source": [
    "for i in s:\n",
    "    print(i.name)"
   ]
  },
  {
   "cell_type": "code",
   "execution_count": 25,
   "metadata": {},
   "outputs": [
    {
     "data": {
      "text/html": [
       "<div>\n",
       "<style scoped>\n",
       "    .dataframe tbody tr th:only-of-type {\n",
       "        vertical-align: middle;\n",
       "    }\n",
       "\n",
       "    .dataframe tbody tr th {\n",
       "        vertical-align: top;\n",
       "    }\n",
       "\n",
       "    .dataframe thead th {\n",
       "        text-align: right;\n",
       "    }\n",
       "</style>\n",
       "<table border=\"1\" class=\"dataframe\">\n",
       "  <thead>\n",
       "    <tr style=\"text-align: right;\">\n",
       "      <th></th>\n",
       "      <th>user</th>\n",
       "      <th>tweet_id</th>\n",
       "      <th>text</th>\n",
       "      <th>number_of_likes</th>\n",
       "    </tr>\n",
       "  </thead>\n",
       "  <tbody>\n",
       "    <tr>\n",
       "      <th>0</th>\n",
       "      <td>SalVulcano</td>\n",
       "      <td>1617641650419027969</td>\n",
       "      <td>Taste Buddies! This is a big one!\\n\\nChoose one:</td>\n",
       "      <td>87</td>\n",
       "    </tr>\n",
       "    <tr>\n",
       "      <th>1</th>\n",
       "      <td>SalVulcano</td>\n",
       "      <td>1617616667089174532</td>\n",
       "      <td>Taste Buddies! Here we go! @tastebudspod \\n\\nC...</td>\n",
       "      <td>91</td>\n",
       "    </tr>\n",
       "    <tr>\n",
       "      <th>2</th>\n",
       "      <td>SalVulcano</td>\n",
       "      <td>1615839601561673728</td>\n",
       "      <td>LONG ISLAND BABES 👇👇\\n\\nTag a friend!!!!\\n\\nMa...</td>\n",
       "      <td>90</td>\n",
       "    </tr>\n",
       "    <tr>\n",
       "      <th>3</th>\n",
       "      <td>SalVulcano</td>\n",
       "      <td>1614306579246891008</td>\n",
       "      <td>Folks suck dick for different reasons. It's wh...</td>\n",
       "      <td>83</td>\n",
       "    </tr>\n",
       "    <tr>\n",
       "      <th>4</th>\n",
       "      <td>SalVulcano</td>\n",
       "      <td>1613724831870066690</td>\n",
       "      <td>I'm sure you guys heard already but Showtime u...</td>\n",
       "      <td>84</td>\n",
       "    </tr>\n",
       "    <tr>\n",
       "      <th>5</th>\n",
       "      <td>SalVulcano</td>\n",
       "      <td>1613724637430415361</td>\n",
       "      <td>👇👇👇👇👇👇💋💋💋💋💋 https://t.co/UBPgWom8NO</td>\n",
       "      <td>81</td>\n",
       "    </tr>\n",
       "    <tr>\n",
       "      <th>6</th>\n",
       "      <td>SalVulcano</td>\n",
       "      <td>1613228487162138628</td>\n",
       "      <td>Love a good disco ball.</td>\n",
       "      <td>79</td>\n",
       "    </tr>\n",
       "    <tr>\n",
       "      <th>7</th>\n",
       "      <td>SalVulcano</td>\n",
       "      <td>1612998791355076609</td>\n",
       "      <td>Love a good classical string.</td>\n",
       "      <td>86</td>\n",
       "    </tr>\n",
       "    <tr>\n",
       "      <th>8</th>\n",
       "      <td>SalVulcano</td>\n",
       "      <td>1612978211108814848</td>\n",
       "      <td>Good handwriting is underrated.</td>\n",
       "      <td>75</td>\n",
       "    </tr>\n",
       "    <tr>\n",
       "      <th>9</th>\n",
       "      <td>SalVulcano</td>\n",
       "      <td>1612542047428218880</td>\n",
       "      <td>Red Rocket ALERT! New @CheetoSantino special \"...</td>\n",
       "      <td>84</td>\n",
       "    </tr>\n",
       "  </tbody>\n",
       "</table>\n",
       "</div>"
      ],
      "text/plain": [
       "         user             tweet_id  \\\n",
       "0  SalVulcano  1617641650419027969   \n",
       "1  SalVulcano  1617616667089174532   \n",
       "2  SalVulcano  1615839601561673728   \n",
       "3  SalVulcano  1614306579246891008   \n",
       "4  SalVulcano  1613724831870066690   \n",
       "5  SalVulcano  1613724637430415361   \n",
       "6  SalVulcano  1613228487162138628   \n",
       "7  SalVulcano  1612998791355076609   \n",
       "8  SalVulcano  1612978211108814848   \n",
       "9  SalVulcano  1612542047428218880   \n",
       "\n",
       "                                                text  number_of_likes  \n",
       "0   Taste Buddies! This is a big one!\\n\\nChoose one:               87  \n",
       "1  Taste Buddies! Here we go! @tastebudspod \\n\\nC...               91  \n",
       "2  LONG ISLAND BABES 👇👇\\n\\nTag a friend!!!!\\n\\nMa...               90  \n",
       "3  Folks suck dick for different reasons. It's wh...               83  \n",
       "4  I'm sure you guys heard already but Showtime u...               84  \n",
       "5                👇👇👇👇👇👇💋💋💋💋💋 https://t.co/UBPgWom8NO               81  \n",
       "6                            Love a good disco ball.               79  \n",
       "7                      Love a good classical string.               86  \n",
       "8                    Good handwriting is underrated.               75  \n",
       "9  Red Rocket ALERT! New @CheetoSantino special \"...               84  "
      ]
     },
     "execution_count": 25,
     "metadata": {},
     "output_type": "execute_result"
    }
   ],
   "source": [
    "df"
   ]
  },
  {
   "attachments": {},
   "cell_type": "markdown",
   "metadata": {},
   "source": [
    "# Read CSV"
   ]
  },
  {
   "cell_type": "code",
   "execution_count": 67,
   "metadata": {},
   "outputs": [],
   "source": [
    "refined_tweets_df = pd.read_csv(\"refined_tweets.csv\")"
   ]
  },
  {
   "cell_type": "code",
   "execution_count": 69,
   "metadata": {},
   "outputs": [
    {
     "data": {
      "text/html": [
       "<div>\n",
       "<style scoped>\n",
       "    .dataframe tbody tr th:only-of-type {\n",
       "        vertical-align: middle;\n",
       "    }\n",
       "\n",
       "    .dataframe tbody tr th {\n",
       "        vertical-align: top;\n",
       "    }\n",
       "\n",
       "    .dataframe thead th {\n",
       "        text-align: right;\n",
       "    }\n",
       "</style>\n",
       "<table border=\"1\" class=\"dataframe\">\n",
       "  <thead>\n",
       "    <tr style=\"text-align: right;\">\n",
       "      <th></th>\n",
       "      <th>user</th>\n",
       "      <th>tweet_id</th>\n",
       "      <th>text</th>\n",
       "    </tr>\n",
       "  </thead>\n",
       "  <tbody>\n",
       "    <tr>\n",
       "      <th>32</th>\n",
       "      <td>SalVulcano</td>\n",
       "      <td>1583501259062976553</td>\n",
       "      <td>Taste Buddies! \\n\\nHEAR WE GO. \\n\\nFilet-O-Fish</td>\n",
       "    </tr>\n",
       "    <tr>\n",
       "      <th>30</th>\n",
       "      <td>SalVulcano</td>\n",
       "      <td>1584632214150520832</td>\n",
       "      <td>Impractical Jokers fans! As the NEW \"Drive, Dr...</td>\n",
       "    </tr>\n",
       "    <tr>\n",
       "      <th>63</th>\n",
       "      <td>SalVulcano</td>\n",
       "      <td>1570786282355433473</td>\n",
       "      <td>Hey Wordle #454... 🖕</td>\n",
       "    </tr>\n",
       "    <tr>\n",
       "      <th>26</th>\n",
       "      <td>SalVulcano</td>\n",
       "      <td>1592211187986583557</td>\n",
       "      <td>IJ TOUR begins Feb 3. Tickets on sale NOW. \\n\\...</td>\n",
       "    </tr>\n",
       "    <tr>\n",
       "      <th>88</th>\n",
       "      <td>SalVulcano</td>\n",
       "      <td>1555326827245309955</td>\n",
       "      <td>ANYONE ELSE FEEL THIS WAY ABOUT THE STEPS?\\n\\n...</td>\n",
       "    </tr>\n",
       "    <tr>\n",
       "      <th>50</th>\n",
       "      <td>SalVulcano</td>\n",
       "      <td>1575180521851985920</td>\n",
       "      <td>Taste Buddies!\\n\\nWhich is *WORSE*:</td>\n",
       "    </tr>\n",
       "    <tr>\n",
       "      <th>19</th>\n",
       "      <td>SalVulcano</td>\n",
       "      <td>1603507914324561921</td>\n",
       "      <td>\"Jerry, it's Frank Costanza. Steinbrenner's he...</td>\n",
       "    </tr>\n",
       "    <tr>\n",
       "      <th>39</th>\n",
       "      <td>SalVulcano</td>\n",
       "      <td>1581323981843361797</td>\n",
       "      <td>TORONTO! TWO SHOWS TONIGHT AT THE QUEEN ELIZAB...</td>\n",
       "    </tr>\n",
       "    <tr>\n",
       "      <th>84</th>\n",
       "      <td>SalVulcano</td>\n",
       "      <td>1555727031542976524</td>\n",
       "      <td>Posted @withregram • @queenelizabeththeatre St...</td>\n",
       "    </tr>\n",
       "    <tr>\n",
       "      <th>53</th>\n",
       "      <td>SalVulcano</td>\n",
       "      <td>1575153578133671938</td>\n",
       "      <td>Taste Buddies!\\n\\nChoose one sandwich:</td>\n",
       "    </tr>\n",
       "    <tr>\n",
       "      <th>36</th>\n",
       "      <td>SalVulcano</td>\n",
       "      <td>1582065875368091648</td>\n",
       "      <td>Love a good fusion of cuisine.</td>\n",
       "    </tr>\n",
       "    <tr>\n",
       "      <th>25</th>\n",
       "      <td>SalVulcano</td>\n",
       "      <td>1597972230293852160</td>\n",
       "      <td>Taste Buddies!\\n\\nLet's do veg...</td>\n",
       "    </tr>\n",
       "    <tr>\n",
       "      <th>73</th>\n",
       "      <td>SalVulcano</td>\n",
       "      <td>1565515104065654784</td>\n",
       "      <td>ATTENSH! I defy you to watch this and not thin...</td>\n",
       "    </tr>\n",
       "    <tr>\n",
       "      <th>91</th>\n",
       "      <td>SalVulcano</td>\n",
       "      <td>1555231412768342017</td>\n",
       "      <td>Tonight!! https://t.co/m28tjhOKJc</td>\n",
       "    </tr>\n",
       "    <tr>\n",
       "      <th>20</th>\n",
       "      <td>SalVulcano</td>\n",
       "      <td>1601666503304417280</td>\n",
       "      <td>Love a good shortbread cookie.</td>\n",
       "    </tr>\n",
       "    <tr>\n",
       "      <th>85</th>\n",
       "      <td>SalVulcano</td>\n",
       "      <td>1555715520715972608</td>\n",
       "      <td>🔥🔥🔥 Episodes comin' in HOT!! https://t.co/lcLI...</td>\n",
       "    </tr>\n",
       "    <tr>\n",
       "      <th>38</th>\n",
       "      <td>SalVulcano</td>\n",
       "      <td>1581396929485099008</td>\n",
       "      <td>Love a good shortcut through the park.</td>\n",
       "    </tr>\n",
       "    <tr>\n",
       "      <th>40</th>\n",
       "      <td>SalVulcano</td>\n",
       "      <td>1580686754104778752</td>\n",
       "      <td>HEY NOW! 👏👏👏👏👏\\n\\nThe brand new #ImpracticalJo...</td>\n",
       "    </tr>\n",
       "    <tr>\n",
       "      <th>97</th>\n",
       "      <td>SalVulcano</td>\n",
       "      <td>1552695221242265600</td>\n",
       "      <td>Thursdays are for the BABES!\\n\\nSUBWAY IS GONN...</td>\n",
       "    </tr>\n",
       "    <tr>\n",
       "      <th>16</th>\n",
       "      <td>SalVulcano</td>\n",
       "      <td>1606403656122867713</td>\n",
       "      <td>No surprise I laugh a lot. Sometimes my knees ...</td>\n",
       "    </tr>\n",
       "    <tr>\n",
       "      <th>33</th>\n",
       "      <td>SalVulcano</td>\n",
       "      <td>1583260352988356608</td>\n",
       "      <td>Love a good infield single.</td>\n",
       "    </tr>\n",
       "    <tr>\n",
       "      <th>5</th>\n",
       "      <td>SalVulcano</td>\n",
       "      <td>1612978211108814848</td>\n",
       "      <td>Good handwriting is underrated.</td>\n",
       "    </tr>\n",
       "    <tr>\n",
       "      <th>12</th>\n",
       "      <td>SalVulcano</td>\n",
       "      <td>1609411258758864897</td>\n",
       "      <td>Love a good oreganata.</td>\n",
       "    </tr>\n",
       "    <tr>\n",
       "      <th>10</th>\n",
       "      <td>SalVulcano</td>\n",
       "      <td>1610306279695699977</td>\n",
       "      <td>Taste Buddies! Your boy is back from the dead!...</td>\n",
       "    </tr>\n",
       "    <tr>\n",
       "      <th>34</th>\n",
       "      <td>SalVulcano</td>\n",
       "      <td>1583245017610493952</td>\n",
       "      <td>Love a good closet light.</td>\n",
       "    </tr>\n",
       "  </tbody>\n",
       "</table>\n",
       "</div>"
      ],
      "text/plain": [
       "          user             tweet_id  \\\n",
       "32  SalVulcano  1583501259062976553   \n",
       "30  SalVulcano  1584632214150520832   \n",
       "63  SalVulcano  1570786282355433473   \n",
       "26  SalVulcano  1592211187986583557   \n",
       "88  SalVulcano  1555326827245309955   \n",
       "50  SalVulcano  1575180521851985920   \n",
       "19  SalVulcano  1603507914324561921   \n",
       "39  SalVulcano  1581323981843361797   \n",
       "84  SalVulcano  1555727031542976524   \n",
       "53  SalVulcano  1575153578133671938   \n",
       "36  SalVulcano  1582065875368091648   \n",
       "25  SalVulcano  1597972230293852160   \n",
       "73  SalVulcano  1565515104065654784   \n",
       "91  SalVulcano  1555231412768342017   \n",
       "20  SalVulcano  1601666503304417280   \n",
       "85  SalVulcano  1555715520715972608   \n",
       "38  SalVulcano  1581396929485099008   \n",
       "40  SalVulcano  1580686754104778752   \n",
       "97  SalVulcano  1552695221242265600   \n",
       "16  SalVulcano  1606403656122867713   \n",
       "33  SalVulcano  1583260352988356608   \n",
       "5   SalVulcano  1612978211108814848   \n",
       "12  SalVulcano  1609411258758864897   \n",
       "10  SalVulcano  1610306279695699977   \n",
       "34  SalVulcano  1583245017610493952   \n",
       "\n",
       "                                                 text  \n",
       "32    Taste Buddies! \\n\\nHEAR WE GO. \\n\\nFilet-O-Fish  \n",
       "30  Impractical Jokers fans! As the NEW \"Drive, Dr...  \n",
       "63                               Hey Wordle #454... 🖕  \n",
       "26  IJ TOUR begins Feb 3. Tickets on sale NOW. \\n\\...  \n",
       "88  ANYONE ELSE FEEL THIS WAY ABOUT THE STEPS?\\n\\n...  \n",
       "50                Taste Buddies!\\n\\nWhich is *WORSE*:  \n",
       "19  \"Jerry, it's Frank Costanza. Steinbrenner's he...  \n",
       "39  TORONTO! TWO SHOWS TONIGHT AT THE QUEEN ELIZAB...  \n",
       "84  Posted @withregram • @queenelizabeththeatre St...  \n",
       "53             Taste Buddies!\\n\\nChoose one sandwich:  \n",
       "36                     Love a good fusion of cuisine.  \n",
       "25                  Taste Buddies!\\n\\nLet's do veg...  \n",
       "73  ATTENSH! I defy you to watch this and not thin...  \n",
       "91                  Tonight!! https://t.co/m28tjhOKJc  \n",
       "20                     Love a good shortbread cookie.  \n",
       "85  🔥🔥🔥 Episodes comin' in HOT!! https://t.co/lcLI...  \n",
       "38             Love a good shortcut through the park.  \n",
       "40  HEY NOW! 👏👏👏👏👏\\n\\nThe brand new #ImpracticalJo...  \n",
       "97  Thursdays are for the BABES!\\n\\nSUBWAY IS GONN...  \n",
       "16  No surprise I laugh a lot. Sometimes my knees ...  \n",
       "33                        Love a good infield single.  \n",
       "5                     Good handwriting is underrated.  \n",
       "12                             Love a good oreganata.  \n",
       "10  Taste Buddies! Your boy is back from the dead!...  \n",
       "34                          Love a good closet light.  "
      ]
     },
     "execution_count": 69,
     "metadata": {},
     "output_type": "execute_result"
    }
   ],
   "source": [
    "refined_tweets_df.sample(25)"
   ]
  },
  {
   "cell_type": "code",
   "execution_count": 10,
   "metadata": {},
   "outputs": [],
   "source": [
    "liking_users = client.get_liking_users(id = \"1583501259062976553\")"
   ]
  },
  {
   "cell_type": "code",
   "execution_count": 24,
   "metadata": {},
   "outputs": [
    {
     "ename": "NameError",
     "evalue": "name 'liking_users' is not defined",
     "output_type": "error",
     "traceback": [
      "\u001b[0;31m---------------------------------------------------------------------------\u001b[0m",
      "\u001b[0;31mNameError\u001b[0m                                 Traceback (most recent call last)",
      "Cell \u001b[0;32mIn[24], line 1\u001b[0m\n\u001b[0;32m----> 1\u001b[0m \u001b[39mlen\u001b[39m(liking_users\u001b[39m.\u001b[39mdata)\n",
      "\u001b[0;31mNameError\u001b[0m: name 'liking_users' is not defined"
     ]
    }
   ],
   "source": [
    "len(liking_users.data)"
   ]
  }
 ],
 "metadata": {
  "kernelspec": {
   "display_name": "pl_dev_1",
   "language": "python",
   "name": "python3"
  },
  "language_info": {
   "codemirror_mode": {
    "name": "ipython",
    "version": 3
   },
   "file_extension": ".py",
   "mimetype": "text/x-python",
   "name": "python",
   "nbconvert_exporter": "python",
   "pygments_lexer": "ipython3",
   "version": "3.10.3"
  },
  "orig_nbformat": 4,
  "vscode": {
   "interpreter": {
    "hash": "9242012419c520fb2a40a2aa0ff70c7f091a54e2be81984ec7393bd241ebc50c"
   }
  }
 },
 "nbformat": 4,
 "nbformat_minor": 2
}
